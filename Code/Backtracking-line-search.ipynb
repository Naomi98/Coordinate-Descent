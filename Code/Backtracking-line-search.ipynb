{
 "cells": [
  {
   "cell_type": "code",
   "execution_count": 1,
   "id": "a0b2835d",
   "metadata": {},
   "outputs": [],
   "source": [
    "import numpy as np\n",
    "from tqdm import tqdm\n",
    "from random import randint\n",
    "import matplotlib.pyplot as plt\n",
    "from sklearn.metrics import log_loss\n",
    "from sklearn.metrics import accuracy_score\n",
    "from sklearn.linear_model import LogisticRegression\n"
   ]
  },
  {
   "cell_type": "code",
   "execution_count": 2,
   "id": "c47a3b94",
   "metadata": {},
   "outputs": [],
   "source": [
    "data = np.loadtxt('./wine.data', delimiter=',')\n",
    "\n",
    "X, y = data[:, 1:], data[:,0]\n",
    "\n",
    "# tranform problem into binary classification task\n",
    "idxs = [i for i in range(len(y)) if y[i] == 1 or y[i] == 2]\n",
    "        \n",
    "X, y = X[idxs], y[idxs]\n",
    "\n",
    "# normalize data\n",
    "X = (X - X.mean(axis=0))/(X.max(axis=0) - X.min(axis=0))\n",
    "X = np.hstack((X,np.ones(len(X)).reshape(len(X),1)))\n",
    "\n",
    "# transform target variable\n",
    "y = np.array(list(map(lambda x: 0 if x == 1 else 1, y))) "
   ]
  },
  {
   "cell_type": "code",
   "execution_count": 3,
   "id": "0d839fcb",
   "metadata": {},
   "outputs": [],
   "source": [
    "# Convert class 0 to -1\n",
    "y = np.asarray([-1 if y[i] == 0 else y[i] for i in range(len(y))])"
   ]
  },
  {
   "cell_type": "code",
   "execution_count": 4,
   "id": "e71e6b76",
   "metadata": {},
   "outputs": [
    {
     "name": "stdout",
     "output_type": "stream",
     "text": [
      "Loss L* = 0.000035        \n"
     ]
    }
   ],
   "source": [
    "# scikit learn implementation (our benchmark)\n",
    "reg = LogisticRegression(solver='liblinear', C=10000000, max_iter = 10000).fit(X,y)\n",
    "L_star = log_loss(y,reg.predict_proba(X))\n",
    "\n",
    "print(\"Loss L* = {:<16f}\".format(log_loss(y,reg.predict_proba(X))))"
   ]
  },
  {
   "cell_type": "code",
   "execution_count": 10,
   "id": "320f7065",
   "metadata": {},
   "outputs": [],
   "source": [
    "def backtrack_line_search(X, y, w, rho = 0.8):\n",
    "    alpha = 1\n",
    "    c = 0.5\n",
    "    while True:\n",
    "        grad = Lw_gradient(X, y, w)\n",
    "        if Lw(X, y, w - alpha * grad.reshape(14, 1)) < (Lw(X, y, w) - alpha * c * np.linalg.norm(grad, ord=2)**2):\n",
    "            break\n",
    "        alpha = alpha * rho\n",
    "    return alpha"
   ]
  },
  {
   "cell_type": "code",
   "execution_count": 6,
   "id": "13fb32c5",
   "metadata": {},
   "outputs": [],
   "source": [
    "# sigmoid function\n",
    "def sigmoid(x):\n",
    "    return 1 / (1 + np.exp(-x))"
   ]
  },
  {
   "cell_type": "code",
   "execution_count": 7,
   "id": "e88284cb",
   "metadata": {},
   "outputs": [],
   "source": [
    "def Lw(X, y, w):\n",
    "    log_losses = []\n",
    "    for i in range(X.shape[0]):\n",
    "        dot = np.dot(w.T, X[i])\n",
    "        exp_arg = -y[i] * dot\n",
    "        loss_i = np.log(1+np.exp(exp_arg))\n",
    "        log_losses.append(loss_i)\n",
    "    return np.sum(log_losses)"
   ]
  },
  {
   "cell_type": "code",
   "execution_count": 8,
   "id": "483a3983",
   "metadata": {},
   "outputs": [],
   "source": [
    "# Gradient of Loss function L(w) of Logistic Regression\n",
    "def Lw_gradient(X, y, w):\n",
    "    losses = []\n",
    "    for i in range(X.shape[0]):\n",
    "        sig_arg = y[i]*np.dot(w.T, X[i].reshape(14,1))\n",
    "        sig = sigmoid(-1.0 * sig_arg)\n",
    "        loss_i = (-y[i] * sig) * X[i]\n",
    "        losses.append(np.asarray(loss_i).reshape(14,))\n",
    "    grad = np.sum(np.asarray(losses), axis=0)\n",
    "    assert grad.shape[0]==14\n",
    "    return grad"
   ]
  },
  {
   "cell_type": "code",
   "execution_count": 11,
   "id": "dda6e38e",
   "metadata": {},
   "outputs": [
    {
     "name": "stderr",
     "output_type": "stream",
     "text": [
      "100%|██████████| 1000000/1000000 [38:02<00:00, 438.08it/s]"
     ]
    },
    {
     "name": "stdout",
     "output_type": "stream",
     "text": [
      "Loss L = 1.5108061949084006\n"
     ]
    },
    {
     "name": "stderr",
     "output_type": "stream",
     "text": [
      "\n"
     ]
    }
   ],
   "source": [
    "# initial weights\n",
    "w = np.zeros(14).reshape(14,1)\n",
    "w += np.random.normal(0, 0.01, (X.shape[1],1))\n",
    "w_rand = w\n",
    "\n",
    "eta = backtrack_line_search(X, y, w, rho = 0.8)\n",
    "loss = []\n",
    "loss_rand = []\n",
    "num_iter = 1000000 # just take a bunch of iterations\n",
    "for t in tqdm(range(num_iter)):\n",
    "    \n",
    "    # predict step \n",
    "    grad = Lw_gradient(X, y, w)\n",
    "    \n",
    "    largest = np.argmax(np.abs(grad)) # idx with largest magnitude\n",
    "    loss.append(Lw(X, y, w)/130)  \n",
    "    \n",
    "    # update that coordinate with largest gradient in magnitude\n",
    "    w[largest] = w[largest] - eta*grad[largest]\n",
    "\n",
    "# print(\"Accuracy for best coordinate descent {0}\".format(accuracy_score(y, y_pred)))\n",
    "print(\"Loss L = {0}\".format(loss[-1]))"
   ]
  },
  {
   "cell_type": "code",
   "execution_count": 12,
   "id": "f3304fa5",
   "metadata": {},
   "outputs": [
    {
     "name": "stderr",
     "output_type": "stream",
     "text": [
      "100%|██████████| 1000000/1000000 [38:40<00:00, 430.97it/s]"
     ]
    },
    {
     "name": "stdout",
     "output_type": "stream",
     "text": [
      "Loss L = 8.172699079701023e-05\n"
     ]
    },
    {
     "name": "stderr",
     "output_type": "stream",
     "text": [
      "\n"
     ]
    }
   ],
   "source": [
    "# initial weights\n",
    "w = np.zeros(14).reshape(14,1)\n",
    "w += np.random.normal(0, 0.01, (X.shape[1],1))\n",
    "w_rand = w\n",
    "\n",
    "eta = backtrack_line_search(X, y, w, rho = 0.8)\n",
    "loss_rand = []\n",
    "num_iter = 1000000\n",
    "for t in tqdm(range(num_iter)):\n",
    "    \n",
    "    # predict step\n",
    "    loss_rand.append(Lw(X, y, w)/130)  \n",
    "    grad = Lw_gradient(X, y, w)\n",
    "    random = randint(0,13)\n",
    "    \n",
    "    # update random coordinate\n",
    "    w_rand[random] = w_rand[random] - eta*grad[random]\n",
    "\n",
    "# print(\"Accuracy for random coordinate descent {0}\".format(accuracy_score(y, y_pred)))\n",
    "print(\"Loss L = {0}\".format(loss_rand[-1]))"
   ]
  },
  {
   "cell_type": "code",
   "execution_count": 16,
   "id": "fca1d403",
   "metadata": {},
   "outputs": [
    {
     "data": {
      "text/plain": [
       "<matplotlib.legend.Legend at 0x7febe1f76100>"
      ]
     },
     "execution_count": 16,
     "metadata": {},
     "output_type": "execute_result"
    },
    {
     "data": {
      "image/png": "[encoded data removed]",
      "text/plain": [
       "<Figure size 432x288 with 1 Axes>"
      ]
     },
     "metadata": {
      "needs_background": "light"
     },
     "output_type": "display_data"
    }
   ],
   "source": [
    "plt.plot(loss, 'g-', label='Best-Gradient Coordinate Descent') # loss best coordinate descent\n",
    "plt.plot(loss_rand, 'r-', label='Random Feature Coordinate Descent')\n",
    "plt.axhline(y=L_star, color='y', label='L*')\n",
    "plt.xlabel('iteration #', fontsize=10)\n",
    "plt.xlim(0,1000000)\n",
    "plt.ylim((-0.01,0.01))\n",
    "plt.ylabel('Loss L(w)', fontsize=10)\n",
    "plt.xticks(fontsize=9)\n",
    "plt.yticks(fontsize=9)\n",
    "plt.grid()\n",
    "plt.legend()"
   ]
  },
  {
   "cell_type": "code",
   "execution_count": null,
   "id": "2cd0007b",
   "metadata": {},
   "outputs": [],
   "source": []
  }
 ],
 "metadata": {
  "kernelspec": {
   "display_name": "Python 3",
   "language": "python",
   "name": "python3"
  },
  "language_info": {
   "codemirror_mode": {
    "name": "ipython",
    "version": 3
   },
   "file_extension": ".py",
   "mimetype": "text/x-python",
   "name": "python",
   "nbconvert_exporter": "python",
   "pygments_lexer": "ipython3",
   "version": "3.8.8"
  }
 },
 "nbformat": 4,
 "nbformat_minor": 5
}
