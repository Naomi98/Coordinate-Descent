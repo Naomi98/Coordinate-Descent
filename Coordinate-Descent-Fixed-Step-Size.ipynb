{
 "cells": [
  {
   "cell_type": "markdown",
   "id": "61cdfde8",
   "metadata": {},
   "source": [
    "## Coordinate Descent"
   ]
  },
  {
   "cell_type": "code",
   "execution_count": 1,
   "id": "a0b2835d",
   "metadata": {},
   "outputs": [],
   "source": [
    "# Importing necessary libraries\n",
    "import numpy as np\n",
    "from tqdm import tqdm\n",
    "from random import randint\n",
    "import matplotlib.pyplot as plt\n",
    "from sklearn.metrics import log_loss\n",
    "from sklearn.metrics import accuracy_score\n",
    "from sklearn.linear_model import LogisticRegression"
   ]
  },
  {
   "cell_type": "markdown",
   "id": "30a148d5",
   "metadata": {},
   "source": [
    "### Data Preprocessing\n",
    "\n",
    "* Transform 3-class data into binary classification task\n",
    "* Normalize the data\n",
    "* Add Bias term\n",
    "* Transform the label '0' into label '-1'"
   ]
  },
  {
   "cell_type": "code",
   "execution_count": 2,
   "id": "c47a3b94",
   "metadata": {},
   "outputs": [],
   "source": [
    "# Wine Data loading\n",
    "data = np.loadtxt('./wine.data', delimiter=',')\n",
    "\n",
    "# tranform into binary classification task\n",
    "X, y = data[:, 1:], data[:,0]\n",
    "\n",
    "# tranform into binary classification task\n",
    "idxs = [i for i in range(len(y)) if y[i] == 1 or y[i] == 2]\n",
    "        \n",
    "X, y = X[idxs], y[idxs]\n",
    "\n",
    "# normalize data\n",
    "X = (X - X.mean(axis=0))/(X.max(axis=0) - X.min(axis=0))\n",
    "\n",
    "# Add bias term to the data - making the dimensions from 13 to 14. Now, d = 14\n",
    "X = np.hstack((X,np.ones(len(X)).reshape(len(X),1)))\n",
    "\n",
    "# transform target variable\n",
    "y = np.array(list(map(lambda x: 0 if x == 1 else 1, y))) "
   ]
  },
  {
   "cell_type": "code",
   "execution_count": 3,
   "id": "0d839fcb",
   "metadata": {},
   "outputs": [],
   "source": [
    "# Convert class 0 to -1\n",
    "y = np.asarray([-1 if y[i] == 0 else y[i] for i in range(len(y))])"
   ]
  },
  {
   "cell_type": "markdown",
   "id": "b840f9d3",
   "metadata": {},
   "source": [
    "### Benchmark Logistic Regression Loss\n",
    "\n",
    "We got L* ~ 0.0004"
   ]
  },
  {
   "cell_type": "code",
   "execution_count": 4,
   "id": "e71e6b76",
   "metadata": {},
   "outputs": [
    {
     "name": "stdout",
     "output_type": "stream",
     "text": [
      "Loss L* = 0.000389        \n"
     ]
    }
   ],
   "source": [
    "# Benchmark Logistic Regression Model from Sklearn - without regularization\n",
    "\n",
    "reg = LogisticRegression(solver='liblinear', C=10000000, max_iter = 10000).fit(X,y)\n",
    "L_star = log_loss(y,reg.predict_proba(X))\n",
    "\n",
    "print(\"Loss L* = {:<16f}\".format(log_loss(y,reg.predict_proba(X))))"
   ]
  },
  {
   "cell_type": "markdown",
   "id": "32793f0b",
   "metadata": {},
   "source": [
    "### Mathematical Functions\n",
    "\n",
    "* Sigmoid Function\n",
    "* Loss Function L(w)\n",
    "* Gradient L'(w) of the Loss Function"
   ]
  },
  {
   "cell_type": "code",
   "execution_count": 5,
   "id": "13fb32c5",
   "metadata": {},
   "outputs": [],
   "source": [
    "# sigmoid function\n",
    "def sigmoid(x):\n",
    "    return 1 / (1 + np.exp(-x))"
   ]
  },
  {
   "cell_type": "code",
   "execution_count": 6,
   "id": "e88284cb",
   "metadata": {},
   "outputs": [],
   "source": [
    "# Loss function L(w)\n",
    "def Lw(X, y, w):\n",
    "    log_losses = []\n",
    "    for i in range(X.shape[0]):\n",
    "        dot = np.dot(w.T, X[i])\n",
    "        exp_arg = -y[i] * dot\n",
    "        loss_i = np.log(1+np.exp(exp_arg))\n",
    "        log_losses.append(loss_i)\n",
    "    return np.sum(log_losses)"
   ]
  },
  {
   "cell_type": "code",
   "execution_count": 7,
   "id": "483a3983",
   "metadata": {},
   "outputs": [],
   "source": [
    "# Gradient of Loss function L(w) of Logistic Regression\n",
    "def Lw_gradient(X, y, w):\n",
    "    losses = []\n",
    "    for i in range(X.shape[0]):\n",
    "        sig_arg = y[i]*np.dot(w.T, X[i].reshape(14,1))\n",
    "        sig = sigmoid(-1.0 * sig_arg)\n",
    "        loss_i = (-y[i] * sig) * X[i]\n",
    "        losses.append(np.asarray(loss_i).reshape(14,))\n",
    "    grad = np.sum(np.asarray(losses), axis=0)\n",
    "    assert grad.shape[0]==14\n",
    "    return grad"
   ]
  },
  {
   "cell_type": "markdown",
   "id": "1bc314f0",
   "metadata": {},
   "source": [
    "### Our approach - Index with Largest Gradient"
   ]
  },
  {
   "cell_type": "code",
   "execution_count": 8,
   "id": "dda6e38e",
   "metadata": {},
   "outputs": [
    {
     "name": "stderr",
     "output_type": "stream",
     "text": [
      "100%|██████████| 1000000/1000000 [37:39<00:00, 442.60it/s]"
     ]
    },
    {
     "name": "stdout",
     "output_type": "stream",
     "text": [
      "Loss L = 0.00047196485364619373\n"
     ]
    },
    {
     "name": "stderr",
     "output_type": "stream",
     "text": [
      "\n"
     ]
    }
   ],
   "source": [
    "# initial weights\n",
    "w = np.zeros(14).reshape(14,1)\n",
    "# Adding random noise to weights\n",
    "w += np.random.normal(0, 0.01, (X.shape[1],1))\n",
    "w_rand = w\n",
    "\n",
    "# step-size\n",
    "eta = 0.01\n",
    "loss = []\n",
    "loss_rand = []\n",
    "\n",
    "# iterations\n",
    "num_iter = 1000000\n",
    "for t in tqdm(range(num_iter)):\n",
    "    grad = Lw_gradient(X, y, w)\n",
    "    \n",
    "    largest = np.argmax(np.abs(grad)) # index with largest magnitude\n",
    "    loss.append(Lw(X, y, w)/130)  \n",
    "    \n",
    "    # update scheme - update that coordinate with largest gradient in magnitude\n",
    "    w[largest] = w[largest] - eta*grad[largest]\n",
    "\n",
    "print(\"Loss L = {0}\".format(loss[-1]))"
   ]
  },
  {
   "cell_type": "markdown",
   "id": "f940998f",
   "metadata": {},
   "source": [
    "### Uniformly Random Index Selection"
   ]
  },
  {
   "cell_type": "code",
   "execution_count": 9,
   "id": "f3304fa5",
   "metadata": {},
   "outputs": [
    {
     "name": "stderr",
     "output_type": "stream",
     "text": [
      "100%|██████████| 1000000/1000000 [37:38<00:00, 442.80it/s]"
     ]
    },
    {
     "name": "stdout",
     "output_type": "stream",
     "text": [
      "Loss L = 0.0009403348884440687\n"
     ]
    },
    {
     "name": "stderr",
     "output_type": "stream",
     "text": [
      "\n"
     ]
    }
   ],
   "source": [
    "# initial weights\n",
    "w = np.zeros(14).reshape(14,1)\n",
    "# Adding random noise to weights\n",
    "w += np.random.normal(0, 0.01, (X.shape[1],1))\n",
    "w_rand = w\n",
    "\n",
    "# step-size\n",
    "eta = 0.01\n",
    "loss_rand = []\n",
    "\n",
    "# iterations\n",
    "num_iter = 1000000\n",
    "for t in tqdm(range(num_iter)):\n",
    "    \n",
    "    loss_rand.append(Lw(X, y, w)/130)  \n",
    "    grad = Lw_gradient(X, y, w)\n",
    "    # random number to select a random index\n",
    "    random = randint(0,13)\n",
    "    \n",
    "    # update scheme - update random coordinate\n",
    "    w_rand[random] = w_rand[random] - eta*grad[random]\n",
    "\n",
    "print(\"Loss L = {0}\".format(loss_rand[-1]))"
   ]
  },
  {
   "cell_type": "markdown",
   "id": "c6c9eead",
   "metadata": {},
   "source": [
    "### Plot for the three Losses\n",
    "* L* - Optimum Loss\n",
    "* Our approach (Best-Gradient) Coordinate Descent\n",
    "* Random Feature Coordinate Descent"
   ]
  },
  {
   "cell_type": "code",
   "execution_count": 13,
   "id": "fca1d403",
   "metadata": {},
   "outputs": [
    {
     "data": {
      "text/plain": [
       "<matplotlib.legend.Legend at 0x7fca0a9c3100>"
      ]
     },
     "execution_count": 13,
     "metadata": {},
     "output_type": "execute_result"
    },
    {
     "data": {
      "image/png": "[encoded data removed]",
      "text/plain": [
       "<Figure size 432x288 with 1 Axes>"
      ]
     },
     "metadata": {
      "needs_background": "light"
     },
     "output_type": "display_data"
    }
   ],
   "source": [
    "# Plotting the graph\n",
    "plt.plot(loss, 'g-', label='Best-Gradient Coordinate Descent') # loss best coordinate descent\n",
    "plt.plot(loss_rand, 'r-', label='Random Feature Coordinate Descent')\n",
    "plt.axhline(y=L_star, color='y', label='L*')\n",
    "plt.xlabel('iteration #', fontsize=10)\n",
    "plt.xlim(0,1000000)\n",
    "plt.ylim((-0.01,0.05))\n",
    "plt.ylabel('Loss L(w)', fontsize=10)\n",
    "plt.xticks(fontsize=9)\n",
    "plt.yticks(fontsize=9)\n",
    "plt.grid()\n",
    "plt.legend()"
   ]
  }
 ],
 "metadata": {
  "kernelspec": {
   "display_name": "Python 3",
   "language": "python",
   "name": "python3"
  },
  "language_info": {
   "codemirror_mode": {
    "name": "ipython",
    "version": 3
   },
   "file_extension": ".py",
   "mimetype": "text/x-python",
   "name": "python",
   "nbconvert_exporter": "python",
   "pygments_lexer": "ipython3",
   "version": "3.8.8"
  }
 },
 "nbformat": 4,
 "nbformat_minor": 5
}
